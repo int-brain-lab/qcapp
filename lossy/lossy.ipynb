{
 "cells": [
  {
   "cell_type": "markdown",
   "id": "0c48e328-b262-4ba7-8b0e-e60a6692a2d2",
   "metadata": {
    "tags": []
   },
   "source": [
    "# Lossy compression of raw ephys data"
   ]
  },
  {
   "cell_type": "markdown",
   "id": "3db568de-f264-4099-897a-933426dfa11d",
   "metadata": {
    "jp-MarkdownHeadingCollapsed": true,
    "tags": []
   },
   "source": [
    "## Imports"
   ]
  },
  {
   "cell_type": "code",
   "execution_count": 128,
   "id": "6ccd405e-61bc-432b-b292-1c116fb98e5d",
   "metadata": {},
   "outputs": [],
   "source": [
    "from itertools import islice\n",
    "import os\n",
    "from pathlib import Path\n",
    "import sys\n",
    "import zlib\n",
    "\n",
    "import numpy as np\n",
    "import matplotlib as mpl\n",
    "import matplotlib.pyplot as plt\n",
    "from scipy.signal import decimate\n",
    "import seaborn as sns\n",
    "from tqdm import tqdm\n",
    "from neurodsp.voltage import decompress_destripe_cbin, destripe\n",
    "\n",
    "from ipywidgets import interact, interactive, fixed, interact_manual\n",
    "import ipywidgets as widgets\n",
    "\n",
    "import mtscomp\n",
    "from mtscomp import Reader, Writer, compress, decompress"
   ]
  },
  {
   "cell_type": "code",
   "execution_count": 195,
   "id": "f69ffa36-dfc0-4431-99f8-af77b83278bb",
   "metadata": {},
   "outputs": [],
   "source": [
    "%matplotlib inline\n",
    "plt.rcParams[\"figure.dpi\"] = 180\n",
    "plt.rcParams[\"axes.grid\"] = False\n",
    "sns.set_theme(style=\"white\")"
   ]
  },
  {
   "cell_type": "markdown",
   "id": "1a887452-5237-433f-ba67-c06f4fcc29ff",
   "metadata": {
    "jp-MarkdownHeadingCollapsed": true,
    "tags": []
   },
   "source": [
    "## Paths"
   ]
  },
  {
   "cell_type": "code",
   "execution_count": 18,
   "id": "eba02a90-b630-4fe0-bef6-1d32d7eaa6fe",
   "metadata": {},
   "outputs": [],
   "source": [
    "EPHYS_DIR = Path(\".\").resolve()"
   ]
  },
  {
   "cell_type": "code",
   "execution_count": 19,
   "id": "4c839957-22ca-4fad-8a44-2fbc486077c4",
   "metadata": {},
   "outputs": [
    {
     "data": {
      "text/plain": [
       "PosixPath('/home/cyrille/31-ibl/qcapp/lossy/_spikeglx_ephysData_g0_t0.imec0.ap.cbin')"
      ]
     },
     "execution_count": 19,
     "metadata": {},
     "output_type": "execute_result"
    }
   ],
   "source": [
    "path_cbin = list(EPHYS_DIR.glob(\"*.cbin\"))[0]\n",
    "path_cbin"
   ]
  },
  {
   "cell_type": "markdown",
   "id": "d37dc3a8-7e0e-4058-96d8-a0b233897e68",
   "metadata": {
    "jp-MarkdownHeadingCollapsed": true,
    "tags": []
   },
   "source": [
    "## Decompressing the .cbin"
   ]
  },
  {
   "cell_type": "code",
   "execution_count": 20,
   "id": "edfb2b21-b674-40da-b3c2-dc50b15bad44",
   "metadata": {},
   "outputs": [],
   "source": [
    "decomp = decompress(path_cbin)"
   ]
  },
  {
   "cell_type": "code",
   "execution_count": 27,
   "id": "ba420e2a-4b88-49f4-af75-01f0cc6acef4",
   "metadata": {},
   "outputs": [
    {
     "data": {
      "text/plain": [
       "30000.0"
      ]
     },
     "execution_count": 27,
     "metadata": {},
     "output_type": "execute_result"
    }
   ],
   "source": [
    "fs = decomp.sample_rate; fs"
   ]
  },
  {
   "cell_type": "code",
   "execution_count": 44,
   "id": "21a77470-2033-4e59-a1ff-7c4597c39380",
   "metadata": {},
   "outputs": [
    {
     "data": {
      "text/plain": [
       "3897.896366666667"
      ]
     },
     "execution_count": 44,
     "metadata": {},
     "output_type": "execute_result"
    }
   ],
   "source": [
    "T = decomp.n_samples / sr; T"
   ]
  },
  {
   "cell_type": "code",
   "execution_count": 45,
   "id": "8ea95e8e-044e-426f-b367-d80363befa1c",
   "metadata": {},
   "outputs": [],
   "source": [
    "def t2s(t):\n",
    "    return int(round(t * fs))"
   ]
  },
  {
   "cell_type": "code",
   "execution_count": 46,
   "id": "a3eacaed-6e58-453c-aa58-811687e8225a",
   "metadata": {},
   "outputs": [],
   "source": [
    "T_s = t2s(duration)"
   ]
  },
  {
   "cell_type": "code",
   "execution_count": 47,
   "id": "448e1c01-8892-4f2e-b080-633395559412",
   "metadata": {},
   "outputs": [],
   "source": [
    "ms = 1e-3"
   ]
  },
  {
   "cell_type": "code",
   "execution_count": 50,
   "id": "9923d7b5-53bf-4ffc-9354-fdf4832c1a7f",
   "metadata": {},
   "outputs": [],
   "source": [
    "h = 20*ms\n",
    "h_s = t2s(h)"
   ]
  },
  {
   "cell_type": "markdown",
   "id": "cb29f4c3-1491-4dcf-9930-a04794f7fa7b",
   "metadata": {
    "jp-MarkdownHeadingCollapsed": true,
    "tags": []
   },
   "source": [
    "## Function to get and preprocess the data"
   ]
  },
  {
   "cell_type": "code",
   "execution_count": 154,
   "id": "ee7022e4-52d9-4f2f-bee9-51da900918d0",
   "metadata": {},
   "outputs": [],
   "source": [
    "DOWNSAMPLE = 4"
   ]
  },
  {
   "cell_type": "code",
   "execution_count": 178,
   "id": "89431bac-bb15-40e4-812a-6a0acdf86abd",
   "metadata": {},
   "outputs": [],
   "source": [
    "def get(t, h=h, downsample=DOWNSAMPLE):  # in seconds\n",
    "    t_s = t2s(t)\n",
    "    h_s = t2s(h)\n",
    "    \n",
    "    t_s = np.clip(t_s, h_s, T_s - h_s)\n",
    "    chunk = decomp[t_s - h_s:t_s + h_s, :-1].T\n",
    "    chunk = destripe(chunk, fs=fs)\n",
    "    if downsample > 1:\n",
    "        chunk = decimate(chunk, downsample, axis=1)\n",
    "    return chunk"
   ]
  },
  {
   "cell_type": "code",
   "execution_count": 162,
   "id": "64be0496-f851-4101-9bbe-ee71eaad6061",
   "metadata": {},
   "outputs": [],
   "source": [
    "chunk = get(0)\n",
    "m, M = chunk.min(), chunk.max()"
   ]
  },
  {
   "cell_type": "markdown",
   "id": "5ad3b0d3-2a6d-4561-886b-3b39da91a507",
   "metadata": {
    "jp-MarkdownHeadingCollapsed": true,
    "tags": []
   },
   "source": [
    "## Interactive raw ephys data viewer"
   ]
  },
  {
   "cell_type": "code",
   "execution_count": 164,
   "id": "da11316e-4e46-4dfc-a28b-d9e79f497c09",
   "metadata": {},
   "outputs": [
    {
     "data": {
      "application/vnd.jupyter.widget-view+json": {
       "model_id": "5cb5d719beef4169bab612a9991dc364",
       "version_major": 2,
       "version_minor": 0
      },
      "text/plain": [
       "interactive(children=(FloatSlider(value=0.02, description='t0', max=3897.876366666667, min=0.02), FloatSlider(…"
      ]
     },
     "metadata": {},
     "output_type": "display_data"
    }
   ],
   "source": [
    "@interact(t0=(0 + h, T - h), downsample=(1, 24), vmin=(m, M), vmax=(m, M))\n",
    "def show(t0=h, vmin=m, vmax=M, downsample=DOWNSAMPLE):\n",
    "    chunk = get(t0, downsample=downsample)\n",
    "    plt.imshow(chunk, cmap=\"gray\", aspect=\"auto\", interpolation='none', vmin=vmin, vmax=vmax);\n",
    "    k = 5\n",
    "    plt.xticks(ticks=np.linspace(0, chunk.shape[1], k), labels=['%.3f' % _ for _ in np.linspace(t0-h, t0+h, k)]);"
   ]
  },
  {
   "cell_type": "markdown",
   "id": "9463cb73-1f7c-4727-99c3-18dd736c637e",
   "metadata": {
    "jp-MarkdownHeadingCollapsed": true,
    "tags": []
   },
   "source": [
    "## Extracting data excerpts"
   ]
  },
  {
   "cell_type": "code",
   "execution_count": 165,
   "id": "1dec465a-df82-4033-9423-70ea7df7cf62",
   "metadata": {},
   "outputs": [],
   "source": [
    "n_excerpts = 10\n",
    "N = int(round(T))\n",
    "excerpts = np.hstack([get(t, .5) for t in .5 + np.arange(1, N - 1, N // n_excerpts)])"
   ]
  },
  {
   "cell_type": "code",
   "execution_count": 166,
   "id": "e08f5139-a140-42f7-8b7e-6b36b59e173b",
   "metadata": {},
   "outputs": [
    {
     "data": {
      "text/plain": [
       "(384, 82500)"
      ]
     },
     "execution_count": 166,
     "metadata": {},
     "output_type": "execute_result"
    }
   ],
   "source": [
    "excerpts.shape"
   ]
  },
  {
   "cell_type": "markdown",
   "id": "a26d6fb2-6864-42b1-af6d-9f983cbf0ad8",
   "metadata": {
    "jp-MarkdownHeadingCollapsed": true,
    "tags": []
   },
   "source": [
    "## Computing the SVD of the excerpts"
   ]
  },
  {
   "cell_type": "code",
   "execution_count": 167,
   "id": "7824fbec-9ea4-497e-865a-e6454d1a68d4",
   "metadata": {},
   "outputs": [],
   "source": [
    "U, sigma, V = np.linalg.svd(excerpts, full_matrices=False)"
   ]
  },
  {
   "cell_type": "code",
   "execution_count": 168,
   "id": "e11e936a-4613-4f5e-991e-43a9bc3f95dd",
   "metadata": {},
   "outputs": [
    {
     "data": {
      "text/plain": [
       "((384, 384), (384, 82500))"
      ]
     },
     "execution_count": 168,
     "metadata": {},
     "output_type": "execute_result"
    }
   ],
   "source": [
    "U.shape, V.shape"
   ]
  },
  {
   "cell_type": "code",
   "execution_count": 169,
   "id": "f573e5b3-0f39-4753-b16d-539b65ce2324",
   "metadata": {},
   "outputs": [],
   "source": [
    "Usigma = U @ np.diag(sigma)\n",
    "Usigma_inv = np.linalg.inv(Usigma)"
   ]
  },
  {
   "cell_type": "raw",
   "id": "d6cdfee2-ac2c-49f5-96e7-1f6810900f26",
   "metadata": {
    "jupyter": {
     "source_hidden": true
    },
    "tags": []
   },
   "source": [
    "f, axes = plt.subplots(1, 2, figsize=(14, 6), sharey=True);\n",
    "im0 = axes[0].imshow(Usigma, interpolation='none', cmap='viridis');\n",
    "im1 = axes[1].imshow(Usigma_inv, interpolation='none', cmap='viridis');\n",
    "f.colorbar(im1, ax=axes);"
   ]
  },
  {
   "cell_type": "markdown",
   "id": "7c437d53-cd24-4e1a-8309-55a55b6e77a1",
   "metadata": {
    "tags": []
   },
   "source": [
    "## Compression/decompression functions"
   ]
  },
  {
   "cell_type": "code",
   "execution_count": 170,
   "id": "c5911907-b419-463a-95e6-ada78fdf9a16",
   "metadata": {},
   "outputs": [],
   "source": [
    "def compress(chunk):\n",
    "    return (Usigma_inv @ chunk)"
   ]
  },
  {
   "cell_type": "code",
   "execution_count": 171,
   "id": "443ea8f2-49be-434e-a26e-c2aefa6830c0",
   "metadata": {},
   "outputs": [],
   "source": [
    "def reconstruct(comp, rk):\n",
    "    return U[:, :rk] @ np.diag(sigma[:rk]) @ comp[:rk, :]"
   ]
  },
  {
   "cell_type": "code",
   "execution_count": 172,
   "id": "18564e8a-8988-422c-a3ba-6538df1c743a",
   "metadata": {},
   "outputs": [],
   "source": [
    "def reduce_depth(arr, cmin=None, cmax=None):\n",
    "    lossy = (arr - cmin) / (cmax - cmin)\n",
    "    lossy = np.clip(lossy, 0, 1)\n",
    "    lossy = np.round(lossy * 255)\n",
    "    lossy = lossy.astype(np.uint8)\n",
    "    lossy = lossy.astype(np.float32) * (1./255)\n",
    "    return cmin + lossy * (cmax - cmin)"
   ]
  },
  {
   "cell_type": "markdown",
   "id": "14796419-6294-42c8-b4d6-67a04e6568d7",
   "metadata": {
    "tags": []
   },
   "source": [
    "## Visualizing the data"
   ]
  },
  {
   "cell_type": "code",
   "execution_count": 173,
   "id": "ba239f3a-8e72-4064-9b0c-a067dd626993",
   "metadata": {},
   "outputs": [],
   "source": [
    "ming, maxg = excerpts.min(), excerpts.max()"
   ]
  },
  {
   "cell_type": "code",
   "execution_count": 174,
   "id": "44f36f0e-29dc-4e3e-8adb-33a0591448d6",
   "metadata": {},
   "outputs": [],
   "source": [
    "k = .0025\n",
    "min0, max0 = np.quantile(excerpts.ravel(), k), np.quantile(excerpts.ravel(), 1-k)"
   ]
  },
  {
   "cell_type": "code",
   "execution_count": 190,
   "id": "ee38fe9e-6e44-440d-9899-a0e17caa773a",
   "metadata": {},
   "outputs": [],
   "source": [
    "t0 = 10\n",
    "RANK = nc // 2"
   ]
  },
  {
   "cell_type": "code",
   "execution_count": 198,
   "id": "2bc2fdd3-2c83-4b56-8640-ff63adf21404",
   "metadata": {
    "tags": []
   },
   "outputs": [
    {
     "data": {
      "application/vnd.jupyter.widget-view+json": {
       "model_id": "5ce39e19c1d4472a8e27d9c02898b2ed",
       "version_major": 2,
       "version_minor": 0
      },
      "text/plain": [
       "interactive(children=(FloatSlider(value=10.0, description='t', max=3897.876366666667, min=0.02), IntSlider(val…"
      ]
     },
     "metadata": {},
     "output_type": "display_data"
    }
   ],
   "source": [
    "@interact(\n",
    "    t=(h, T-h), \n",
    "    rk=(3, nc),\n",
    "    downsample=(1, 24),\n",
    "    cvmin=(ming, maxg),\n",
    "    cmax=(ming, maxg),\n",
    "    reduce_bit_depth=True,\n",
    "    vmin=(ming, maxg),\n",
    "    vmax=(ming, maxg))\n",
    "def compare(t=t0, rk=RANK, downsample=DOWNSAMPLE, vmin=min0, vmax=max0, cmin=min0, cmax=max0, reduce_bit_depth=None):\n",
    "    orig = get(t, downsample=1)\n",
    "    \n",
    "    chunk = get(t, downsample=downsample)\n",
    "    comp = compress(chunk)\n",
    "    lossy = reconstruct(comp, rk)\n",
    "    ratio = nc / float(rk) * downsample\n",
    "    if reduce_bit_depth:\n",
    "        lossy = reduce_depth(lossy, cmin, cmax)\n",
    "        ratio *= 2\n",
    "        \n",
    "    fig, axes = plt.subplots(1, 2, figsize=(16, 5), sharey=True);\n",
    "    kwargs = dict(cmap=\"gray\", aspect=\"auto\", interpolation='none', vmin=vmin, vmax=vmax)\n",
    "    \n",
    "    n_ticks = 5\n",
    "    ticks = ['%.3f' % _ for _ in np.linspace(t-h, t+h, n_ticks)]\n",
    "    \n",
    "    axes[0].imshow(orig, **kwargs);\n",
    "    axes[0].set_xticks(np.linspace(0, orig.shape[1], n_ticks), ticks);\n",
    "    axes[0].set_xlabel(f\"time (s)\");\n",
    "    axes[0].set_title(f\"original (destriped)\");\n",
    "    \n",
    "    axes[1].imshow(lossy, **kwargs);\n",
    "    axes[1].set_xticks(np.linspace(0, lossy.shape[1], n_ticks), ticks);\n",
    "    axes[1].set_xlabel(f\"time (s)\");\n",
    "    axes[1].set_title(f\"lossy, rank={rk}, downsampled {downsample}x, ratio {ratio:.1f}x\");\n",
    "    \n",
    "    plt.show();"
   ]
  },
  {
   "cell_type": "code",
   "execution_count": null,
   "id": "0661e590-d81b-4ae4-951d-544a39ea9548",
   "metadata": {},
   "outputs": [],
   "source": []
  },
  {
   "cell_type": "code",
   "execution_count": null,
   "id": "6210f03f-55c3-4469-866c-7f0a3dd5c9c8",
   "metadata": {},
   "outputs": [],
   "source": []
  },
  {
   "cell_type": "code",
   "execution_count": null,
   "id": "8baff778-c87d-47a5-ae94-42d0163c3acf",
   "metadata": {},
   "outputs": [],
   "source": []
  },
  {
   "cell_type": "code",
   "execution_count": null,
   "id": "7e622fec-adb2-4446-a05c-651edea5750e",
   "metadata": {},
   "outputs": [],
   "source": []
  }
 ],
 "metadata": {
  "kernelspec": {
   "display_name": "Python 3 (ipykernel)",
   "language": "python",
   "name": "python3"
  },
  "language_info": {
   "codemirror_mode": {
    "name": "ipython",
    "version": 3
   },
   "file_extension": ".py",
   "mimetype": "text/x-python",
   "name": "python",
   "nbconvert_exporter": "python",
   "pygments_lexer": "ipython3",
   "version": "3.10.6"
  }
 },
 "nbformat": 4,
 "nbformat_minor": 5
}
